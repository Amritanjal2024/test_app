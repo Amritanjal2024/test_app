{
  "cells": [
    {
      "cell_type": "markdown",
      "metadata": {
        "id": "view-in-github",
        "colab_type": "text"
      },
      "source": [
        "<a href=\"https://colab.research.google.com/github/Amritanjal2024/test_app/blob/main/LinearAlgebra_Code.ipynb\" target=\"_parent\"><img src=\"https://colab.research.google.com/assets/colab-badge.svg\" alt=\"Open In Colab\"/></a>"
      ]
    },
    {
      "cell_type": "markdown",
      "metadata": {
        "id": "nQt1OZ0c0nt5"
      },
      "source": [
        "**Math - Linear Algebra**\n",
        "\n",
        "*Linear Algebra is the branch of mathematics that studies [vector spaces](https://en.wikipedia.org/wiki/Vector_space) and linear transformations between vector spaces, such as rotating a shape, scaling it up or down, translating it (ie. moving it), etc.*\n",
        "\n",
        "*Machine Learning relies heavily on Linear Algebra, so it is essential to understand what vectors and matrices are, what operations you can perform with them, and how they can be useful.*"
      ]
    },
    {
      "cell_type": "markdown",
      "metadata": {
        "id": "bbKJNZyO0nt9"
      },
      "source": [
        "Before we start, let's ensure that this notebook works well in both Python 2 and 3:"
      ]
    },
    {
      "cell_type": "code",
      "execution_count": 47,
      "metadata": {
        "id": "JPedvWXD0nt9"
      },
      "outputs": [],
      "source": [
        "from __future__ import division, print_function, unicode_literals\n"
      ]
    },
    {
      "cell_type": "markdown",
      "metadata": {
        "id": "HiO-2-V_0nt-"
      },
      "source": [
        "# Vectors\n",
        "## Definition\n",
        "A vector is a quantity defined by a magnitude and a direction. For example, a rocket's velocity is a 3-dimensional vector: its magnitude is the speed of the rocket, and its direction is (hopefully) up. A vector can be represented by an array of numbers called *scalars*. Each scalar corresponds to the magnitude of the vector with regards to each dimension.\n",
        "\n",
        "For example, say the rocket is going up at a slight angle: it has a vertical speed of 5,000 m/s, and also a slight speed towards the East at 10 m/s, and a slight speed towards the North at 50 m/s. The rocket's velocity may be represented by the following vector:\n",
        "\n",
        "**velocity** $= \\begin{pmatrix}\n",
        "10 \\\\\n",
        "50 \\\\\n",
        "5000 \\\\\n",
        "\\end{pmatrix}$\n",
        "\n",
        "Note: by convention vectors are generally presented in the form of columns. Also, vector names are generally lowercase to distinguish them from matrices (which we will discuss below) and in bold (when possible) to distinguish them from simple scalar values such as ${meters\\_per\\_second} = 5026$.\n",
        "\n",
        "A list of N numbers may also represent the coordinates of a point in an N-dimensional space, so it is quite frequent to represent vectors as simple points instead of arrows. A vector with 1 element may be represented as an arrow or a point on an axis, a vector with 2 elements is an arrow or a point on a plane, a vector with 3 elements is an arrow or point in space, and a vector with N elements is an arrow or a point in an N-dimensional space… which most people find hard to imagine.\n",
        "\n",
        "\n",
        "##  Purpose\n",
        "Vectors have many purposes in Machine Learning, most notably to represent observations and predictions. For example, say we built a Machine Learning system to classify videos into 3 categories (good, spam, clickbait) based on what we know about them. For each video, we would have a vector representing what we know about it, such as:\n",
        "\n",
        "**video** $= \\begin{pmatrix}\n",
        "10.5 \\\\\n",
        "5.2 \\\\\n",
        "3.25 \\\\\n",
        "7.0\n",
        "\\end{pmatrix}$\n",
        "\n",
        "This vector could represent a video that lasts 10.5 minutes, but only 5.2% viewers watch for more than a minute, it gets 3.25 views per day on average, and it was flagged 7 times as spam. As you can see, each axis may have a different meaning.\n",
        "\n",
        "Based on this vector our Machine Learning system may predict that there is an 80% probability that it is a spam video, 18% that it is clickbait, and 2% that it is a good video. This could be represented as the following vector:\n",
        "\n",
        "**class_probabilities** $= \\begin{pmatrix}\n",
        "0.80 \\\\\n",
        "0.18 \\\\\n",
        "0.02\n",
        "\\end{pmatrix}$"
      ]
    },
    {
      "cell_type": "markdown",
      "metadata": {
        "id": "91U32nkM0nt_"
      },
      "source": [
        "## Vectors in python\n",
        "In python, a vector can be represented in many ways, the simplest being a regular python list of numbers:"
      ]
    },
    {
      "cell_type": "code",
      "execution_count": 48,
      "metadata": {
        "id": "MLaeZzXS0nt_",
        "outputId": "97e0a21b-90fe-46d5-d382-20f43b56c8bd",
        "colab": {
          "base_uri": "https://localhost:8080/"
        }
      },
      "outputs": [
        {
          "output_type": "execute_result",
          "data": {
            "text/plain": [
              "[10.5, 5.2, 3.25, 7.0]"
            ]
          },
          "metadata": {},
          "execution_count": 48
        }
      ],
      "source": [
        "[10.5, 5.2, 3.25, 7.0]\n"
      ]
    },
    {
      "cell_type": "markdown",
      "metadata": {
        "id": "4nxdiVPv0nuA"
      },
      "source": [
        "Since we plan to do quite a lot of scientific calculations, it is much better to use NumPy's `ndarray`, which provides a lot of convenient and optimized implementations of essential mathematical operations on vectors. For example:"
      ]
    },
    {
      "cell_type": "code",
      "execution_count": 49,
      "metadata": {
        "id": "wpIedn8F0nuB",
        "outputId": "c318e498-a4b3-475c-eb6d-69e6a80f4865",
        "colab": {
          "base_uri": "https://localhost:8080/"
        }
      },
      "outputs": [
        {
          "output_type": "execute_result",
          "data": {
            "text/plain": [
              "array([10.5 ,  5.2 ,  3.25,  7.  ])"
            ]
          },
          "metadata": {},
          "execution_count": 49
        }
      ],
      "source": [
        "import numpy as np\n",
        "video = np.array([10.5, 5.2, 3.25, 7.0])\n",
        "video\n"
      ]
    },
    {
      "cell_type": "markdown",
      "metadata": {
        "id": "Gm9ke36I0nuB"
      },
      "source": [
        "The size of a vector can be obtained using the `size` attribute:"
      ]
    },
    {
      "cell_type": "code",
      "execution_count": 50,
      "metadata": {
        "id": "T8V4pfoR0nuC",
        "outputId": "adebc22c-0a9b-4eb4-df85-1d46e5549f26",
        "colab": {
          "base_uri": "https://localhost:8080/"
        }
      },
      "outputs": [
        {
          "output_type": "execute_result",
          "data": {
            "text/plain": [
              "4"
            ]
          },
          "metadata": {},
          "execution_count": 50
        }
      ],
      "source": [
        "video.size\n"
      ]
    },
    {
      "cell_type": "markdown",
      "metadata": {
        "id": "TsCHZrTC0nuC"
      },
      "source": [
        "The $i^{th}$ element (also called *entry* or *item*) of a vector $\\textbf{v}$ is noted $\\textbf{v}_i$.\n",
        "\n",
        "Note that indices in mathematics generally start at 1, but in programming they usually start at 0. So to access $\\textbf{video}_3$ programmatically, we would write:"
      ]
    },
    {
      "cell_type": "code",
      "execution_count": 51,
      "metadata": {
        "id": "xmLdDTvd0nuC",
        "outputId": "d26e592a-593c-4073-9566-adb8d70bcee3",
        "colab": {
          "base_uri": "https://localhost:8080/"
        }
      },
      "outputs": [
        {
          "output_type": "execute_result",
          "data": {
            "text/plain": [
              "3.25"
            ]
          },
          "metadata": {},
          "execution_count": 51
        }
      ],
      "source": [
        "video[2]  # 3rd element\n"
      ]
    },
    {
      "cell_type": "markdown",
      "metadata": {
        "id": "2rHFTVoY0nuE"
      },
      "source": [
        "## Plotting vectors\n",
        "To plot vectors we will use matplotlib, so let's start by importing it (for details about matplotlib, check the [matplotlib tutorial](tools_matplotlib.ipynb)):"
      ]
    },
    {
      "cell_type": "code",
      "execution_count": 52,
      "metadata": {
        "id": "Cks_AAeI0nuE"
      },
      "outputs": [],
      "source": [
        "%matplotlib inline\n",
        "import matplotlib.pyplot as plt\n"
      ]
    },
    {
      "cell_type": "markdown",
      "metadata": {
        "id": "Hqc0gUr00nuF"
      },
      "source": [
        "### 2D vectors\n",
        "Let's create a couple very simple 2D vectors to plot:"
      ]
    },
    {
      "cell_type": "code",
      "execution_count": 53,
      "metadata": {
        "id": "zByiRZ3J0nuF"
      },
      "outputs": [],
      "source": [
        "u = np.array([2, 5])\n",
        "v = np.array([3, 1])\n"
      ]
    },
    {
      "cell_type": "markdown",
      "metadata": {
        "id": "SJ9pyNS20nuF"
      },
      "source": [
        "These vectors each have 2 elements, so they can easily be represented graphically on a 2D graph, for example as points:"
      ]
    },
    {
      "cell_type": "code",
      "execution_count": 54,
      "metadata": {
        "id": "MMiDUfJw0nuF",
        "outputId": "4e67e3f5-4709-478a-ec8e-5be638f9d331",
        "colab": {
          "base_uri": "https://localhost:8080/",
          "height": 435
        }
      },
      "outputs": [
        {
          "output_type": "display_data",
          "data": {
            "text/plain": [
              "<Figure size 640x480 with 1 Axes>"
            ],
            "image/png": "[encoded data removed]"
          },
          "metadata": {}
        }
      ],
      "source": [
        "x_coords, y_coords = zip(u, v)\n",
        "plt.scatter(x_coords, y_coords, color=[\"r\",\"b\"])\n",
        "plt.axis([0, 9, 0, 6])\n",
        "plt.grid()\n",
        "plt.show()\n"
      ]
    },
    {
      "cell_type": "markdown",
      "metadata": {
        "id": "rbxdzvqE0nuG"
      },
      "source": [
        "Vectors can also be represented as arrows. Let's create a small convenience function to draw nice arrows:"
      ]
    },
    {
      "cell_type": "code",
      "execution_count": 55,
      "metadata": {
        "id": "b342Qwbh0nuG"
      },
      "outputs": [],
      "source": [
        "def plot_vector2d(vector2d, origin=[0, 0], **options):\n",
        "    return plt.arrow(origin[0], origin[1], vector2d[0], vector2d[1],\n",
        "              head_width=0.2, head_length=0.3, length_includes_head=True,\n",
        "              **options)\n"
      ]
    },
    {
      "cell_type": "markdown",
      "metadata": {
        "id": "FGy7KXjm0nuG"
      },
      "source": [
        "Now let's draw the vectors **u** and **v** as arrows:"
      ]
    },
    {
      "cell_type": "code",
      "execution_count": 56,
      "metadata": {
        "id": "2ghS14wt0nuG",
        "outputId": "40e6bd7e-feae-4a58-ea05-5b42be0c7d0f",
        "colab": {
          "base_uri": "https://localhost:8080/",
          "height": 435
        }
      },
      "outputs": [
        {
          "output_type": "display_data",
          "data": {
            "text/plain": [
              "<Figure size 640x480 with 1 Axes>"
            ],
            "image/png": "[encoded data removed]"
          },
          "metadata": {}
        }
      ],
      "source": [
        "plot_vector2d(u, color=\"r\")\n",
        "plot_vector2d(v, color=\"b\")\n",
        "plt.axis([0, 9, 0, 6])\n",
        "plt.grid()\n",
        "plt.show()\n"
      ]
    },
    {
      "cell_type": "markdown",
      "metadata": {
        "id": "Izo60jB10nuG"
      },
      "source": [
        "### 3D vectors\n",
        "Plotting 3D vectors is also relatively straightforward. First let's create two 3D vectors:"
      ]
    },
    {
      "cell_type": "code",
      "execution_count": 57,
      "metadata": {
        "id": "_gQ26W880nuG"
      },
      "outputs": [],
      "source": [
        "a = np.array([1, 2, 8])\n",
        "b = np.array([5, 6, 3])\n"
      ]
    },
    {
      "cell_type": "markdown",
      "metadata": {
        "id": "Z3uPgBrT0nuG"
      },
      "source": [
        "Now let's plot them using matplotlib's `Axes3D`:"
      ]
    },
    {
      "cell_type": "code",
      "execution_count": 58,
      "metadata": {
        "id": "1Vn8oXFQ0nuG",
        "outputId": "37f48056-74d8-4e75-f879-e6cdf053163c",
        "colab": {
          "base_uri": "https://localhost:8080/",
          "height": 415
        }
      },
      "outputs": [
        {
          "output_type": "display_data",
          "data": {
            "text/plain": [
              "<Figure size 640x480 with 1 Axes>"
            ],
            "image/png": "[encoded data removed]"
          },
          "metadata": {}
        }
      ],
      "source": [
        "from mpl_toolkits.mplot3d import Axes3D\n",
        "\n",
        "subplot3d = plt.subplot(111, projection='3d')\n",
        "x_coords, y_coords, z_coords = zip(a,b)\n",
        "subplot3d.scatter(x_coords, y_coords, z_coords)\n",
        "subplot3d.set_zlim3d([0, 9])\n",
        "plt.show()\n"
      ]
    },
    {
      "cell_type": "markdown",
      "metadata": {
        "id": "Dpae3h2I0nuG"
      },
      "source": [
        "It is a bit hard to visualize exactly where in space these two points are, so let's add vertical lines. We'll create a small convenience function to plot a list of 3d vectors with vertical lines attached:"
      ]
    },
    {
      "cell_type": "code",
      "execution_count": 59,
      "metadata": {
        "id": "GD5WvDcS0nuH",
        "outputId": "3ac59530-6efb-46b1-d316-b012076cac4f",
        "colab": {
          "base_uri": "https://localhost:8080/",
          "height": 415
        }
      },
      "outputs": [
        {
          "output_type": "display_data",
          "data": {
            "text/plain": [
              "<Figure size 640x480 with 1 Axes>"
            ],
            "image/png": "[encoded data removed]"
          },
          "metadata": {}
        }
      ],
      "source": [
        "def plot_vectors3d(ax, vectors3d, z0, **options):\n",
        "    for v in vectors3d:\n",
        "        x, y, z = v\n",
        "        ax.plot([x,x], [y,y], [z0, z], color=\"gray\", linestyle='dotted', marker=\".\")\n",
        "    x_coords, y_coords, z_coords = zip(*vectors3d)\n",
        "    ax.scatter(x_coords, y_coords, z_coords, **options)\n",
        "\n",
        "subplot3d = plt.subplot(111, projection='3d')\n",
        "subplot3d.set_zlim([0, 9])\n",
        "plot_vectors3d(subplot3d, [a,b], 0, color=(\"r\",\"b\"))\n",
        "plt.show()\n"
      ]
    },
    {
      "cell_type": "markdown",
      "metadata": {
        "id": "z2SBvkN70nuH"
      },
      "source": [
        "## Norm\n",
        "The norm of a vector $\\textbf{u}$, noted $\\left \\Vert \\textbf{u} \\right \\|$, is a measure of the length (a.k.a. the magnitude) of $\\textbf{u}$. There are multiple possible norms, but the most common one (and the only one we will discuss here) is the Euclidian norm, which is defined as:\n",
        "\n",
        "$\\left \\Vert \\textbf{u} \\right \\| = \\sqrt{\\sum_{i}{\\textbf{u}_i}^2}$\n",
        "\n",
        "We could implement this easily in pure python, recalling that $\\sqrt x = x^{\\frac{1}{2}}$"
      ]
    },
    {
      "cell_type": "code",
      "execution_count": 60,
      "metadata": {
        "id": "3poH0Okd0nuH",
        "outputId": "f45ba9f0-5ecf-4d40-e8d6-4849b7267ff5",
        "colab": {
          "base_uri": "https://localhost:8080/"
        }
      },
      "outputs": [
        {
          "output_type": "stream",
          "name": "stdout",
          "text": [
            "|| [2 5] || =\n"
          ]
        },
        {
          "output_type": "execute_result",
          "data": {
            "text/plain": [
              "5.385164807134504"
            ]
          },
          "metadata": {},
          "execution_count": 60
        }
      ],
      "source": [
        "def vector_norm(vector):\n",
        "    squares = [element**2 for element in vector]\n",
        "    return sum(squares)**0.5\n",
        "\n",
        "print(\"||\", u, \"|| =\")\n",
        "vector_norm(u)\n"
      ]
    },
    {
      "cell_type": "markdown",
      "metadata": {
        "id": "4Py8s2Qv0nuH"
      },
      "source": [
        "However, it is much more efficient to use NumPy's `norm` function, available in the `linalg` (**Lin**ear **Alg**ebra) module:"
      ]
    },
    {
      "cell_type": "code",
      "execution_count": 61,
      "metadata": {
        "id": "mTbgYCrM0nuH",
        "outputId": "29e249b7-b61b-46ea-f528-aabebba564c0",
        "colab": {
          "base_uri": "https://localhost:8080/"
        }
      },
      "outputs": [
        {
          "output_type": "execute_result",
          "data": {
            "text/plain": [
              "5.385164807134504"
            ]
          },
          "metadata": {},
          "execution_count": 61
        }
      ],
      "source": [
        "import numpy.linalg as LA\n",
        "LA.norm(u)\n"
      ]
    },
    {
      "cell_type": "markdown",
      "metadata": {
        "id": "yFdyJDIO0nuH"
      },
      "source": [
        "Let's plot a little diagram to confirm that the length of vector $\\textbf{v}$ is indeed $\\approx5.4$:"
      ]
    },
    {
      "cell_type": "code",
      "execution_count": 62,
      "metadata": {
        "id": "ZBhVLwnZ0nuH",
        "outputId": "f6ab433b-af55-4b88-8cb2-62d092926103",
        "colab": {
          "base_uri": "https://localhost:8080/",
          "height": 435
        }
      },
      "outputs": [
        {
          "output_type": "display_data",
          "data": {
            "text/plain": [
              "<Figure size 640x480 with 1 Axes>"
            ],
            "image/png": "[encoded data removed]"
          },
          "metadata": {}
        }
      ],
      "source": [
        "radius = LA.norm(u)\n",
        "plt.gca().add_artist(plt.Circle((0,0), radius, color=\"#DDDDDD\"))\n",
        "plot_vector2d(u, color=\"red\")\n",
        "plt.axis([0, 8.7, 0, 6])\n",
        "plt.grid()\n",
        "plt.show()\n"
      ]
    },
    {
      "cell_type": "markdown",
      "metadata": {
        "id": "665RQ33h0nuH"
      },
      "source": [
        "Looks about right!"
      ]
    },
    {
      "cell_type": "markdown",
      "metadata": {
        "id": "SKnc1Pwg0nuH"
      },
      "source": [
        "## Addition\n",
        "Vectors of same size can be added together. Addition is performed *elementwise*:"
      ]
    },
    {
      "cell_type": "code",
      "execution_count": 63,
      "metadata": {
        "id": "JIw8GppK0nuI",
        "outputId": "8326c25e-b639-4b62-adb5-7d2a3ecd05e7",
        "colab": {
          "base_uri": "https://localhost:8080/"
        }
      },
      "outputs": [
        {
          "output_type": "stream",
          "name": "stdout",
          "text": [
            "  [2 5]\n",
            "+ [3 1]\n",
            "----------\n"
          ]
        },
        {
          "output_type": "execute_result",
          "data": {
            "text/plain": [
              "array([5, 6])"
            ]
          },
          "metadata": {},
          "execution_count": 63
        }
      ],
      "source": [
        "print(\" \", u)\n",
        "print(\"+\", v)\n",
        "print(\"-\"*10)\n",
        "u + v\n"
      ]
    },
    {
      "cell_type": "markdown",
      "metadata": {
        "id": "vcggmoMU0nuI"
      },
      "source": [
        "Let's look at what vector addition looks like graphically:"
      ]
    },
    {
      "cell_type": "code",
      "execution_count": 64,
      "metadata": {
        "scrolled": true,
        "id": "OTsRKpX_0nuI",
        "outputId": "714c6335-ad70-4ea2-f1d9-cbf19d51c783",
        "colab": {
          "base_uri": "https://localhost:8080/",
          "height": 435
        }
      },
      "outputs": [
        {
          "output_type": "display_data",
          "data": {
            "text/plain": [
              "<Figure size 640x480 with 1 Axes>"
            ],
            "image/png": "[encoded data removed]"
          },
          "metadata": {}
        }
      ],
      "source": [
        "plot_vector2d(u, color=\"r\")\n",
        "plot_vector2d(v, color=\"b\")\n",
        "plot_vector2d(v, origin=u, color=\"b\", linestyle=\"dotted\")\n",
        "plot_vector2d(u, origin=v, color=\"r\", linestyle=\"dotted\")\n",
        "plot_vector2d(u+v, color=\"g\")\n",
        "plt.axis([0, 9, 0, 7])\n",
        "plt.text(0.7, 3, \"u\", color=\"r\", fontsize=18)\n",
        "plt.text(4, 3, \"u\", color=\"r\", fontsize=18)\n",
        "plt.text(1.8, 0.2, \"v\", color=\"b\", fontsize=18)\n",
        "plt.text(3.1, 5.6, \"v\", color=\"b\", fontsize=18)\n",
        "plt.text(2.4, 2.5, \"u+v\", color=\"g\", fontsize=18)\n",
        "plt.grid()\n",
        "plt.show()\n"
      ]
    },
    {
      "cell_type": "markdown",
      "metadata": {
        "id": "Q5diNiNs0nuN"
      },
      "source": [
        "## Multiplication by a scalar\n",
        "Vectors can be multiplied by scalars. All elements in the vector are multiplied by that number, for example:"
      ]
    },
    {
      "cell_type": "code",
      "execution_count": 65,
      "metadata": {
        "id": "RxBV9JKD0nuN",
        "outputId": "285936e3-3b8c-4348-f9d2-5b1fd73eb75c",
        "colab": {
          "base_uri": "https://localhost:8080/"
        }
      },
      "outputs": [
        {
          "output_type": "stream",
          "name": "stdout",
          "text": [
            "1.5 * [2 5] =\n"
          ]
        },
        {
          "output_type": "execute_result",
          "data": {
            "text/plain": [
              "array([3. , 7.5])"
            ]
          },
          "metadata": {},
          "execution_count": 65
        }
      ],
      "source": [
        "print(\"1.5 *\", u, \"=\")\n",
        "\n",
        "1.5 * u\n"
      ]
    },
    {
      "cell_type": "markdown",
      "metadata": {
        "id": "_YbNK0220nuO"
      },
      "source": [
        "Graphically, scalar multiplication results in changing the scale of a figure, hence the name *scalar*. The distance from the origin (the point at coordinates equal to zero) is also multiplied by the scalar. For example, let's scale up by a factor of `k = 2.5`:"
      ]
    },
    {
      "cell_type": "code",
      "execution_count": 68,
      "metadata": {
        "id": "X9hrQjHq0nuO",
        "outputId": "353d4191-bf69-4132-a838-bca870248386",
        "colab": {
          "base_uri": "https://localhost:8080/",
          "height": 211
        }
      },
      "outputs": [
        {
          "output_type": "error",
          "ename": "NameError",
          "evalue": "name 't1' is not defined",
          "traceback": [
            "\u001b[0;31m---------------------------------------------------------------------------\u001b[0m",
            "\u001b[0;31mNameError\u001b[0m                                 Traceback (most recent call last)",
            "\u001b[0;32m<ipython-input-68-5f54f0881adf>\u001b[0m in \u001b[0;36m<cell line: 0>\u001b[0;34m()\u001b[0m\n\u001b[1;32m      1\u001b[0m \u001b[0mk\u001b[0m \u001b[0;34m=\u001b[0m \u001b[0;36m2.5\u001b[0m\u001b[0;34m\u001b[0m\u001b[0;34m\u001b[0m\u001b[0m\n\u001b[0;32m----> 2\u001b[0;31m \u001b[0mt1c\u001b[0m \u001b[0;34m=\u001b[0m \u001b[0mk\u001b[0m \u001b[0;34m*\u001b[0m \u001b[0mt1\u001b[0m\u001b[0;34m\u001b[0m\u001b[0;34m\u001b[0m\u001b[0m\n\u001b[0m\u001b[1;32m      3\u001b[0m \u001b[0mt2c\u001b[0m \u001b[0;34m=\u001b[0m \u001b[0mk\u001b[0m \u001b[0;34m*\u001b[0m \u001b[0mt2\u001b[0m\u001b[0;34m\u001b[0m\u001b[0;34m\u001b[0m\u001b[0m\n\u001b[1;32m      4\u001b[0m \u001b[0mt3c\u001b[0m \u001b[0;34m=\u001b[0m \u001b[0mk\u001b[0m \u001b[0;34m*\u001b[0m \u001b[0mt3\u001b[0m\u001b[0;34m\u001b[0m\u001b[0;34m\u001b[0m\u001b[0m\n\u001b[1;32m      5\u001b[0m \u001b[0;34m\u001b[0m\u001b[0m\n",
            "\u001b[0;31mNameError\u001b[0m: name 't1' is not defined"
          ]
        }
      ],
      "source": [
        "k = 2.5\n",
        "t1c = k * t1\n",
        "t2c = k * t2\n",
        "t3c = k * t3\n",
        "\n",
        "plt.plot(x_coords, y_coords, \"c--\", x_coords, y_coords, \"co\")\n",
        "\n",
        "plot_vector2d(t1, color=\"r\")\n",
        "plot_vector2d(t2, color=\"r\")\n",
        "plot_vector2d(t3, color=\"r\")\n",
        "\n",
        "x_coords_c, y_coords_c = zip(t1c, t2c, t3c, t1c)\n",
        "plt.plot(x_coords_c, y_coords_c, \"b-\", x_coords_c, y_coords_c, \"bo\")\n",
        "\n",
        "plot_vector2d(k * t1, color=\"b\", linestyle=\":\")\n",
        "plot_vector2d(k * t2, color=\"b\", linestyle=\":\")\n",
        "plot_vector2d(k * t3, color=\"b\", linestyle=\":\")\n",
        "\n",
        "plt.axis([0, 9, 0, 9])\n",
        "plt.grid()\n",
        "plt.show()\n"
      ]
    },
    {
      "cell_type": "markdown",
      "metadata": {
        "id": "0RfvIBOs0nuO"
      },
      "source": [
        "As you might guess, dividing a vector by a scalar is equivalent to multiplying by its inverse:\n",
        "\n",
        "$\\dfrac{\\textbf{u}}{\\lambda} = \\dfrac{1}{\\lambda} \\times \\textbf{u}$"
      ]
    },
    {
      "cell_type": "markdown",
      "metadata": {
        "id": "Wou9ehGI0nuO"
      },
      "source": [
        "## Dot product\n",
        "### Definition\n",
        "The dot product (also called *scalar product* or *inner product* in the context of the Euclidian space) of two vectors $\\textbf{u}$ and $\\textbf{v}$ is a useful operation that comes up fairly often in linear algebra. It is noted $\\textbf{u} \\cdot \\textbf{v}$, or sometimes $⟨\\textbf{u}|\\textbf{v}⟩$ or $(\\textbf{u}|\\textbf{v})$, and it is defined as:\n",
        "\n",
        "$\\textbf{u} \\cdot \\textbf{v} = \\left \\Vert \\textbf{u} \\right \\| \\times \\left \\Vert \\textbf{v} \\right \\| \\times cos(\\theta)$\n",
        "\n",
        "where $\\theta$ is the angle between $\\textbf{u}$ and $\\textbf{v}$.\n",
        "\n",
        "Another way to calculate the dot product is:\n",
        "\n",
        "$\\textbf{u} \\cdot \\textbf{v} = \\sum_i{\\textbf{u}_i \\times \\textbf{v}_i}$\n",
        "\n",
        "### In python\n",
        "The dot product is pretty simple to implement:"
      ]
    },
    {
      "cell_type": "code",
      "execution_count": null,
      "metadata": {
        "id": "sV16x-Er0nuO"
      },
      "outputs": [],
      "source": [
        "def dot_product(v1, v2):\n",
        "    return sum(v1i * v2i for v1i, v2i in zip(v1, v2))\n",
        "\n",
        "dot_product(u, v)\n"
      ]
    },
    {
      "cell_type": "markdown",
      "metadata": {
        "id": "EyMQDzaf0nuO"
      },
      "source": [
        "But a *much* more efficient implementation is provided by NumPy with the `dot` function:"
      ]
    },
    {
      "cell_type": "code",
      "execution_count": null,
      "metadata": {
        "id": "73RowHJg0nuP"
      },
      "outputs": [],
      "source": [
        "np.dot(u,v)\n"
      ]
    },
    {
      "cell_type": "markdown",
      "metadata": {
        "id": "v-MjOij_0nuP"
      },
      "source": [
        "Equivalently, you can use the `dot` method of `ndarray`s:"
      ]
    },
    {
      "cell_type": "code",
      "execution_count": null,
      "metadata": {
        "id": "0fvHJwgZ0nuP"
      },
      "outputs": [],
      "source": [
        "u.dot(v)\n"
      ]
    },
    {
      "cell_type": "markdown",
      "metadata": {
        "id": "RLGw9hOy0nuQ"
      },
      "source": [
        "<font color='red'>**Caution**:</font> the `*` operator will perform an *elementwise* multiplication, *NOT* a dot product:"
      ]
    },
    {
      "cell_type": "code",
      "execution_count": null,
      "metadata": {
        "id": "c9ym5fjE0nuQ"
      },
      "outputs": [],
      "source": [
        "print(\"  \",u)\n",
        "print(\"* \",v, \"(NOT a dot product)\")\n",
        "print(\"-\"*10)\n",
        "\n",
        "u * v\n"
      ]
    },
    {
      "cell_type": "markdown",
      "metadata": {
        "id": "0GJFok3B0nuQ"
      },
      "source": [
        "### Calculating the angle between vectors\n",
        "One of the many uses of the dot product is to calculate the angle between two non-zero vectors. Looking at the dot product definition, we can deduce the following formula:\n",
        "\n",
        "$\\theta = \\arccos{\\left ( \\dfrac{\\textbf{u} \\cdot \\textbf{v}}{\\left \\Vert \\textbf{u} \\right \\| \\times \\left \\Vert \\textbf{v} \\right \\|} \\right ) }$\n",
        "\n",
        "Note that if $\\textbf{u} \\cdot \\textbf{v} = 0$, it follows that $\\theta = \\dfrac{π}{2}$. In other words, if the dot product of two non-null vectors is zero, it means that they are orthogonal.\n",
        "\n",
        "Let's use this formula to calculate the angle between $\\textbf{u}$ and $\\textbf{v}$ (in radians):"
      ]
    },
    {
      "cell_type": "code",
      "execution_count": null,
      "metadata": {
        "id": "1deYNlu70nuQ"
      },
      "outputs": [],
      "source": [
        "def vector_angle(u, v):\n",
        "    cos_theta = u.dot(v) / LA.norm(u) / LA.norm(v)\n",
        "    return np.arccos(np.clip(cos_theta, -1, 1))\n",
        "\n",
        "theta = vector_angle(u, v)\n",
        "print(\"Angle =\", theta, \"radians\")\n",
        "print(\"      =\", theta * 180 / np.pi, \"degrees\")\n"
      ]
    },
    {
      "cell_type": "markdown",
      "metadata": {
        "id": "KNwvZ7K20nuQ"
      },
      "source": [
        "Note: due to small floating point errors, `cos_theta` may be very slightly outside of the $[-1, 1]$ interval, which would make `arccos` fail. This is why we clipped the value within the range, using NumPy's `clip` function."
      ]
    },
    {
      "cell_type": "markdown",
      "metadata": {
        "id": "ShgG5Xci0nuQ"
      },
      "source": [
        "# Matrices\n",
        "A matrix is a rectangular array of scalars (ie. any number: integer, real or complex) arranged in rows and columns, for example:\n",
        "\n",
        "\\begin{bmatrix} 10 & 20 & 30 \\\\ 40 & 50 & 60 \\end{bmatrix}\n",
        "\n",
        "You can also think of a matrix as a list of vectors: the previous matrix contains either 2 horizontal 3D vectors or 3 vertical 2D vectors.\n",
        "\n",
        "Matrices are convenient and very efficient to run operations on many vectors at a time. We will also see that they are great at representing and performing linear transformations such rotations, translations and scaling."
      ]
    },
    {
      "cell_type": "markdown",
      "metadata": {
        "id": "VYJKzPZT0nuQ"
      },
      "source": [
        "## Matrices in python\n",
        "In python, a matrix can be represented in various ways. The simplest is just a list of python lists:"
      ]
    },
    {
      "cell_type": "code",
      "execution_count": null,
      "metadata": {
        "id": "qJ2nNUUt0nuQ"
      },
      "outputs": [],
      "source": [
        "[\n",
        "    [10, 20, 30],\n",
        "    [40, 50, 60]\n",
        "]\n"
      ]
    },
    {
      "cell_type": "markdown",
      "metadata": {
        "id": "SnmtZQkT0nuQ"
      },
      "source": [
        "A much more efficient way is to use the NumPy library which provides optimized implementations of many matrix operations:"
      ]
    },
    {
      "cell_type": "code",
      "execution_count": null,
      "metadata": {
        "id": "HZwaN12p0nuR"
      },
      "outputs": [],
      "source": [
        "A = np.array([\n",
        "    [10,20,30],\n",
        "    [40,50,60]\n",
        "])\n",
        "A\n"
      ]
    },
    {
      "cell_type": "markdown",
      "metadata": {
        "id": "JvLNIMO50nuR"
      },
      "source": [
        "By convention matrices generally have uppercase names, such as $A$.\n",
        "\n",
        "In the rest of this tutorial, we will assume that we are using NumPy arrays (type `ndarray`) to represent matrices."
      ]
    },
    {
      "cell_type": "markdown",
      "metadata": {
        "id": "PDpBM94D0nuR"
      },
      "source": [
        "## Size\n",
        "The size of a matrix is defined by its number of rows and number of columns. It is noted $rows \\times columns$. For example, the matrix $A$ above is an example of a $2 \\times 3$ matrix: 2 rows, 3 columns. Caution: a $3 \\times 2$ matrix would have 3 rows and 2 columns.\n",
        "\n",
        "To get a matrix's size in NumPy:"
      ]
    },
    {
      "cell_type": "code",
      "execution_count": null,
      "metadata": {
        "id": "DXCIh1Wh0nuR"
      },
      "outputs": [],
      "source": [
        "A.shape\n"
      ]
    },
    {
      "cell_type": "markdown",
      "metadata": {
        "id": "BIJdx3EX0nuR"
      },
      "source": [
        "**Caution**: the `size` attribute represents the number of elements in the `ndarray`, not the matrix's size:"
      ]
    },
    {
      "cell_type": "code",
      "execution_count": null,
      "metadata": {
        "id": "yF-lFrLp0nuR"
      },
      "outputs": [],
      "source": [
        "A.size\n"
      ]
    },
    {
      "cell_type": "markdown",
      "metadata": {
        "id": "lqUsAnOT0nuR"
      },
      "source": [
        "## Element indexing\n",
        "The number located in the $i^{th}$ row, and $j^{th}$ column of a matrix $X$ is sometimes noted $X_{i,j}$ or $X_{ij}$, but there is no standard notation, so people often prefer to explicitely name the elements, like this: \"*let $X = (x_{i,j})_{1 ≤ i ≤ m, 1 ≤ j ≤ n}$*\". This means that $X$ is equal to:\n",
        "\n",
        "$X = \\begin{bmatrix}\n",
        "  x_{1,1} & x_{1,2} & x_{1,3} & \\cdots & x_{1,n}\\\\\n",
        "  x_{2,1} & x_{2,2} & x_{2,3} & \\cdots & x_{2,n}\\\\\n",
        "  x_{3,1} & x_{3,2} & x_{3,3} & \\cdots & x_{3,n}\\\\\n",
        "  \\vdots & \\vdots & \\vdots & \\ddots & \\vdots \\\\\n",
        "  x_{m,1} & x_{m,2} & x_{m,3} & \\cdots & x_{m,n}\\\\\n",
        "\\end{bmatrix}$\n",
        "\n",
        "However in this notebook we will use the $X_{i,j}$ notation, as it matches fairly well NumPy's notation. Note that in math indices generally start at 1, but in programming they usually start at 0. So to access $A_{2,3}$ programmatically, we need to write this:"
      ]
    },
    {
      "cell_type": "code",
      "execution_count": null,
      "metadata": {
        "id": "FDeilU1Z0nuR"
      },
      "outputs": [],
      "source": [
        "A[1,2]\n"
      ]
    },
    {
      "cell_type": "markdown",
      "metadata": {
        "id": "QYh1GYzq0nuR"
      },
      "source": [
        "The $i^{th}$ row vector is sometimes noted $M_i$ or $M_{i,*}$, but again there is no standard notation so people often prefer to explicitely define their own names, for example: \"*let **x**$_{i}$ be the $i^{th}$ row vector of matrix $X$*\". We will use the $M_{i,*}$, for the same reason as above. For example, to access $A_{2,*}$ (ie. $A$'s 2nd row vector):"
      ]
    },
    {
      "cell_type": "code",
      "execution_count": null,
      "metadata": {
        "id": "Mxdg_8Sb0nuS"
      },
      "outputs": [],
      "source": [
        "A[1, :]"
      ]
    },
    {
      "cell_type": "markdown",
      "metadata": {
        "id": "mbYXvpz70nuS"
      },
      "source": [
        "Similarly, the $j^{th}$ column vector is sometimes noted $M^j$ or $M_{*,j}$, but there is no standard notation. We will use $M_{*,j}$. For example, to access $A_{*,3}$ (ie. $A$'s 3rd column vector):"
      ]
    },
    {
      "cell_type": "code",
      "execution_count": null,
      "metadata": {
        "id": "yca4pxf20nuS"
      },
      "outputs": [],
      "source": [
        "A[:, 2]\n"
      ]
    },
    {
      "cell_type": "markdown",
      "metadata": {
        "id": "echz0BpH0nuS"
      },
      "source": [
        "Note that the result is actually a one-dimensional NumPy array: there is no such thing as a *vertical* or *horizontal* one-dimensional array. If you need to actually represent a row vector as a one-row matrix (ie. a 2D NumPy array), or a column vector as a one-column matrix, then you need to use a slice instead of an integer when accessing the row or column, for example:"
      ]
    },
    {
      "cell_type": "code",
      "execution_count": null,
      "metadata": {
        "id": "dLcqnk_L0nuS"
      },
      "outputs": [],
      "source": [
        "A[1:2, :]\n"
      ]
    },
    {
      "cell_type": "code",
      "execution_count": null,
      "metadata": {
        "id": "ALShIOKQ0nuT"
      },
      "outputs": [],
      "source": [
        "A[:, 2:3]\n"
      ]
    },
    {
      "cell_type": "markdown",
      "metadata": {
        "id": "LW3-XyiY0nuT"
      },
      "source": [
        "The **identity matrix** of size $n$, noted $I_n$, is a diagonal matrix of size $n \\times n$ with $1$'s in the main diagonal, for example $I_3$:\n",
        "\n",
        "\\begin{bmatrix}\n",
        "  1 & 0 & 0 \\\\\n",
        "  0 & 1 & 0 \\\\\n",
        "  0 & 0 & 1\n",
        "\\end{bmatrix}\n",
        "\n",
        "Numpy's `eye` function returns the identity matrix of the desired size:"
      ]
    },
    {
      "cell_type": "code",
      "execution_count": null,
      "metadata": {
        "id": "-w7ry10Q0nuT"
      },
      "outputs": [],
      "source": [
        "np.eye(3)\n"
      ]
    },
    {
      "cell_type": "markdown",
      "metadata": {
        "id": "2XA355UW0nuT"
      },
      "source": [
        "The identity matrix is often noted simply $I$ (instead of $I_n$) when its size is clear given the context. It is called the *identity* matrix because multiplying a matrix with it leaves the matrix unchanged as we will see below."
      ]
    },
    {
      "cell_type": "markdown",
      "metadata": {
        "id": "IAT2wFLm0nuT"
      },
      "source": [
        "## Adding matrices\n",
        "If two matrices $Q$ and $R$ have the same size $m \\times n$, they can be added together. Addition is performed *elementwise*: the result is also a $m \\times n$ matrix $S$ where each element is the sum of the elements at the corresponding position: $S_{i,j} = Q_{i,j} + R_{i,j}$\n",
        "\n",
        "$S =\n",
        "\\begin{bmatrix}\n",
        "  Q_{11} + R_{11} & Q_{12} + R_{12} & Q_{13} + R_{13} & \\cdots & Q_{1n} + R_{1n} \\\\\n",
        "  Q_{21} + R_{21} & Q_{22} + R_{22} & Q_{23} + R_{23} & \\cdots & Q_{2n} + R_{2n}  \\\\\n",
        "  Q_{31} + R_{31} & Q_{32} + R_{32} & Q_{33} + R_{33} & \\cdots & Q_{3n} + R_{3n}  \\\\\n",
        "  \\vdots & \\vdots & \\vdots & \\ddots & \\vdots \\\\\n",
        "  Q_{m1} + R_{m1} & Q_{m2} + R_{m2} & Q_{m3} + R_{m3} & \\cdots & Q_{mn} + R_{mn}  \\\\\n",
        "\\end{bmatrix}$\n",
        "\n",
        "For example, let's create a $2 \\times 3$ matric $B$ and compute $A + B$:"
      ]
    },
    {
      "cell_type": "code",
      "execution_count": null,
      "metadata": {
        "id": "04uDvEfD0nuU"
      },
      "outputs": [],
      "source": [
        "B = np.array([[1,2,3], [4, 5, 6]])\n",
        "B\n"
      ]
    },
    {
      "cell_type": "code",
      "execution_count": null,
      "metadata": {
        "id": "xyrd7fbB0nuU"
      },
      "outputs": [],
      "source": [
        "A\n"
      ]
    },
    {
      "cell_type": "code",
      "execution_count": null,
      "metadata": {
        "id": "S4ZkUXjs0nuV"
      },
      "outputs": [],
      "source": [
        "A + B\n"
      ]
    },
    {
      "cell_type": "markdown",
      "metadata": {
        "id": "EBp0ho7C0nuV"
      },
      "source": [
        "## Scalar multiplication\n",
        "A matrix $M$ can be multiplied by a scalar $\\lambda$. The result is noted $\\lambda M$, and it is a matrix of the same size as $M$ with all elements multiplied by $\\lambda$:\n",
        "\n",
        "$\\lambda M =\n",
        "\\begin{bmatrix}\n",
        "  \\lambda \\times M_{11} & \\lambda \\times M_{12} & \\lambda \\times M_{13} & \\cdots & \\lambda \\times M_{1n} \\\\\n",
        "  \\lambda \\times M_{21} & \\lambda \\times M_{22} & \\lambda \\times M_{23} & \\cdots & \\lambda \\times M_{2n} \\\\\n",
        "  \\lambda \\times M_{31} & \\lambda \\times M_{32} & \\lambda \\times M_{33} & \\cdots & \\lambda \\times M_{3n} \\\\\n",
        "  \\vdots & \\vdots & \\vdots & \\ddots & \\vdots \\\\\n",
        "  \\lambda \\times M_{m1} & \\lambda \\times M_{m2} & \\lambda \\times M_{m3} & \\cdots & \\lambda \\times M_{mn} \\\\\n",
        "\\end{bmatrix}$\n",
        "\n",
        "A more concise way of writing this is:\n",
        "\n",
        "$(\\lambda M)_{i,j} = \\lambda (M)_{i,j}$\n",
        "\n",
        "In NumPy, simply use the `*` operator to multiply a matrix by a scalar. For example:"
      ]
    },
    {
      "cell_type": "code",
      "execution_count": null,
      "metadata": {
        "id": "CCuTQCYg0nuV"
      },
      "outputs": [],
      "source": [
        "2 * A\n"
      ]
    },
    {
      "cell_type": "markdown",
      "metadata": {
        "id": "KWmWO-qR0nuV"
      },
      "source": [
        "Scalar multiplication is also defined on the right hand side, and gives the same result: $M \\lambda = \\lambda M$. For example:"
      ]
    },
    {
      "cell_type": "code",
      "execution_count": null,
      "metadata": {
        "id": "VJPAaT_m0nuV"
      },
      "outputs": [],
      "source": [
        "A * 2\n"
      ]
    },
    {
      "cell_type": "markdown",
      "metadata": {
        "id": "vOyHbqgF0nuV"
      },
      "source": [
        "## Matrix multiplication\n",
        "So far, matrix operations have been rather intuitive. But multiplying matrices is a bit more involved.\n",
        "\n",
        "A matrix $Q$ of size $m \\times n$ can be multiplied by a matrix $R$ of size $n \\times q$. It is noted simply $QR$ without multiplication sign or dot. The result $P$ is an $m \\times q$ matrix where each element is computed as a sum of products:\n",
        "\n",
        "$P_{i,j} = \\sum_{k=1}^n{Q_{i,k} \\times R_{k,j}}$\n",
        "\n",
        "The element at position $i,j$ in the resulting matrix is the sum of the products of elements in row $i$ of matrix $Q$ by the elements in column $j$ of matrix $R$.\n",
        "\n",
        "$P =\n",
        "\\begin{bmatrix}\n",
        "Q_{11} R_{11} + Q_{12} R_{21} + \\cdots + Q_{1n} R_{n1} &\n",
        "  Q_{11} R_{12} + Q_{12} R_{22} + \\cdots + Q_{1n} R_{n2} &\n",
        "    \\cdots &\n",
        "      Q_{11} R_{1q} + Q_{12} R_{2q} + \\cdots + Q_{1n} R_{nq} \\\\\n",
        "Q_{21} R_{11} + Q_{22} R_{21} + \\cdots + Q_{2n} R_{n1} &\n",
        "  Q_{21} R_{12} + Q_{22} R_{22} + \\cdots + Q_{2n} R_{n2} &\n",
        "    \\cdots &\n",
        "      Q_{21} R_{1q} + Q_{22} R_{2q} + \\cdots + Q_{2n} R_{nq} \\\\\n",
        "  \\vdots & \\vdots & \\ddots & \\vdots \\\\\n",
        "Q_{m1} R_{11} + Q_{m2} R_{21} + \\cdots + Q_{mn} R_{n1} &\n",
        "  Q_{m1} R_{12} + Q_{m2} R_{22} + \\cdots + Q_{mn} R_{n2} &\n",
        "    \\cdots &\n",
        "      Q_{m1} R_{1q} + Q_{m2} R_{2q} + \\cdots + Q_{mn} R_{nq}\n",
        "\\end{bmatrix}$\n",
        "\n",
        "You may notice that each element $P_{i,j}$ is the dot product of the row vector $Q_{i,*}$ and the column vector $R_{*,j}$:\n",
        "\n",
        "$P_{i,j} = Q_{i,*} \\cdot R_{*,j}$\n",
        "\n",
        "So we can rewrite $P$ more concisely as:\n",
        "\n",
        "$P =\n",
        "\\begin{bmatrix}\n",
        "Q_{1,*} \\cdot R_{*,1} & Q_{1,*} \\cdot R_{*,2} & \\cdots & Q_{1,*} \\cdot R_{*,q} \\\\\n",
        "Q_{2,*} \\cdot R_{*,1} & Q_{2,*} \\cdot R_{*,2} & \\cdots & Q_{2,*} \\cdot R_{*,q} \\\\\n",
        "\\vdots & \\vdots & \\ddots & \\vdots \\\\\n",
        "Q_{m,*} \\cdot R_{*,1} & Q_{m,*} \\cdot R_{*,2} & \\cdots & Q_{m,*} \\cdot R_{*,q}\n",
        "\\end{bmatrix}$\n"
      ]
    },
    {
      "cell_type": "markdown",
      "metadata": {
        "id": "2EpxeUfW0nuV"
      },
      "source": [
        "Let's multiply two matrices in NumPy, using `ndarray`'s `dot` method:\n",
        "\n",
        "$E = AD = \\begin{bmatrix}\n",
        "  10 & 20 & 30 \\\\\n",
        "  40 & 50 & 60\n",
        "\\end{bmatrix}\n",
        "\\begin{bmatrix}\n",
        "  2 & 3 & 5 & 7 \\\\\n",
        "  11 & 13 & 17 & 19 \\\\\n",
        "  23 & 29 & 31 & 37\n",
        "\\end{bmatrix} =\n",
        "\\begin{bmatrix}\n",
        "  930 & 1160 & 1320 & 1560 \\\\\n",
        "  2010 & 2510 & 2910 & 3450\n",
        "\\end{bmatrix}$"
      ]
    },
    {
      "cell_type": "code",
      "execution_count": null,
      "metadata": {
        "id": "TsnE184X0nuV"
      },
      "outputs": [],
      "source": [
        "D = np.array([\n",
        "        [ 2,  3,  5,  7],\n",
        "        [11, 13, 17, 19],\n",
        "        [23, 29, 31, 37]\n",
        "    ])\n",
        "E = A.dot(D)\n",
        "E\n"
      ]
    },
    {
      "cell_type": "markdown",
      "metadata": {
        "id": "EcdzJsZ_0nuV"
      },
      "source": [
        "Let's check this result by looking at one element, just to be sure: looking at $E_{2,3}$ for example, we need to multiply elements in $A$'s $2^{nd}$ row by elements in $D$'s $3^{rd}$ column, and sum up these products:"
      ]
    },
    {
      "cell_type": "code",
      "execution_count": null,
      "metadata": {
        "id": "nYYW34c20nuW"
      },
      "outputs": [],
      "source": [
        "40*5 + 50*17 + 60*31\n"
      ]
    },
    {
      "cell_type": "code",
      "execution_count": null,
      "metadata": {
        "id": "cG5Twe1d0nuW"
      },
      "outputs": [],
      "source": [
        "E[1,2]  # row 2, column 3\n"
      ]
    },
    {
      "cell_type": "markdown",
      "metadata": {
        "id": "UQ1bz-hh0nuW"
      },
      "source": [
        "Looks good! You can check the other elements until you get used to the algorithm.\n",
        "\n",
        "We multiplied a $2 \\times 3$ matrix by a $3 \\times 4$ matrix, so the result is a $2 \\times 4$ matrix. The first matrix's number of columns has to be equal to the second matrix's number of rows. If we try to multiple $D$ by $A$, we get an error because D has 4 columns while A has 2 rows:"
      ]
    },
    {
      "cell_type": "code",
      "execution_count": null,
      "metadata": {
        "id": "jBDZ9nPa0nuW"
      },
      "outputs": [],
      "source": [
        "try:\n",
        "    D.dot(A)\n",
        "except ValueError as e:\n",
        "    print(\"ValueError:\", e)\n"
      ]
    },
    {
      "cell_type": "markdown",
      "metadata": {
        "id": "x2_ZrzeN0nuW"
      },
      "source": [
        "This illustrates the fact that **matrix multiplication is *NOT* commutative**: in general $QR ≠ RQ$\n",
        "\n",
        "In fact, $QR$ and $RQ$ are only *both* defined if $Q$ has size $m \\times n$ and $R$ has size $n \\times m$. Let's look at an example where both *are* defined and show that they are (in general) *NOT* equal:"
      ]
    },
    {
      "cell_type": "code",
      "execution_count": null,
      "metadata": {
        "id": "o7MfAwEK0nuW"
      },
      "outputs": [],
      "source": [
        "F = np.array([\n",
        "        [5,2],\n",
        "        [4,1],\n",
        "        [9,3]\n",
        "    ])\n",
        "A.dot(F)\n"
      ]
    },
    {
      "cell_type": "code",
      "execution_count": null,
      "metadata": {
        "id": "4Z_IYLyC0nuW"
      },
      "outputs": [],
      "source": [
        "F.dot(A)\n"
      ]
    },
    {
      "cell_type": "markdown",
      "metadata": {
        "id": "9abqaMM_0nuW"
      },
      "source": [
        "On the other hand, **matrix multiplication *is* associative**, meaning that $Q(RS) = (QR)S$. Let's create a $4 \\times 5$ matrix $G$ to illustrate this:"
      ]
    },
    {
      "cell_type": "code",
      "execution_count": null,
      "metadata": {
        "id": "LQnYbn2Y0nuW"
      },
      "outputs": [],
      "source": [
        "G = np.array([\n",
        "        [8,  7,  4,  2,  5],\n",
        "        [2,  5,  1,  0,  5],\n",
        "        [9, 11, 17, 21,  0],\n",
        "        [0,  1,  0,  1,  2]])\n",
        "A.dot(D).dot(G)     # (AB)G\n"
      ]
    },
    {
      "cell_type": "code",
      "execution_count": null,
      "metadata": {
        "id": "T30BoDBj0nuW"
      },
      "outputs": [],
      "source": [
        "A.dot(D.dot(G))     # A(BG)\n"
      ]
    },
    {
      "cell_type": "markdown",
      "metadata": {
        "id": "QkeoNQx-0nuW"
      },
      "source": [
        "**Caution**: NumPy's `*` operator performs elementwise multiplication, *NOT* a matrix multiplication:"
      ]
    },
    {
      "cell_type": "code",
      "execution_count": null,
      "metadata": {
        "scrolled": true,
        "id": "HOsAw2Cl0nuW"
      },
      "outputs": [],
      "source": [
        "A * B   # NOT a matrix multiplication\n"
      ]
    },
    {
      "cell_type": "markdown",
      "metadata": {
        "id": "BivYLtlj0nuX"
      },
      "source": [
        "**The @ infix operator**\n",
        "\n",
        "Python 3.5 [introduced](https://docs.python.org/3/whatsnew/3.5.html#pep-465-a-dedicated-infix-operator-for-matrix-multiplication) the `@` infix operator for matrix multiplication, and NumPy 1.10 added support for it. If you are using Python 3.5+ and NumPy 1.10+, you can simply write `A @ D` instead of `A.dot(D)`, making your code much more readable (but less portable). This operator also works for vector dot products."
      ]
    },
    {
      "cell_type": "code",
      "execution_count": null,
      "metadata": {
        "id": "wS71-M_10nuX"
      },
      "outputs": [],
      "source": [
        "import sys\n",
        "print(\"Python version: {}.{}.{}\".format(*sys.version_info))\n",
        "print(\"Numpy version:\", np.version.version)\n",
        "\n",
        "# Uncomment the following line if your Python version is ≥3.5\n",
        "# and your NumPy version is ≥1.10:\n",
        "\n",
        "A @ D\n"
      ]
    },
    {
      "cell_type": "markdown",
      "metadata": {
        "id": "qCnhzjTx0nuX"
      },
      "source": [
        "Note: `Q @ R` is actually equivalent to `Q.__matmul__(R)` which is implemented by NumPy as `np.matmul(Q, R)`, not as `Q.dot(R)`. The main difference is that `matmul` does not support scalar multiplication, while `dot` does, so you can write `Q.dot(3)`, which is equivalent to `Q * 3`, but you cannot write `Q @ 3` ([more details](http://stackoverflow.com/a/34142617/38626))."
      ]
    },
    {
      "cell_type": "markdown",
      "metadata": {
        "id": "NhCUyWDd0nuX"
      },
      "source": [
        "## Matrix transpose\n",
        "The transpose of a matrix $M$ is a matrix noted $M^T$ such that the $i^{th}$ row in $M^T$ is equal to the $i^{th}$ column in $M$:\n",
        "\n",
        "$ A^T =\n",
        "\\begin{bmatrix}\n",
        "  10 & 20 & 30 \\\\\n",
        "  40 & 50 & 60\n",
        "\\end{bmatrix}^T =\n",
        "\\begin{bmatrix}\n",
        "  10 & 40 \\\\\n",
        "  20 & 50 \\\\\n",
        "  30 & 60\n",
        "\\end{bmatrix}$\n",
        "\n",
        "In other words, ($A^T)_{i,j}$ = $A_{j,i}$\n",
        "\n",
        "Obviously, if $M$ is an $m \\times n$ matrix, then $M^T$ is an $n \\times m$ matrix.\n",
        "\n",
        "Note: there are a few other notations, such as $M^t$, $M′$, or ${^t}M$.\n",
        "\n",
        "In NumPy, a matrix's transpose can be obtained simply using the `T` attribute:"
      ]
    },
    {
      "cell_type": "code",
      "execution_count": null,
      "metadata": {
        "id": "u3Iw40gd0nuX"
      },
      "outputs": [],
      "source": [
        "A\n"
      ]
    },
    {
      "cell_type": "code",
      "execution_count": null,
      "metadata": {
        "id": "e8EU1LAH0nuX"
      },
      "outputs": [],
      "source": [
        "A.T\n"
      ]
    },
    {
      "cell_type": "markdown",
      "metadata": {
        "id": "YDQr4DeZ0nuX"
      },
      "source": [
        "As you might expect, transposing a matrix twice returns the original matrix:"
      ]
    },
    {
      "cell_type": "code",
      "execution_count": null,
      "metadata": {
        "id": "Kg1JCUBh0nuX"
      },
      "outputs": [],
      "source": [
        "A.T.T\n"
      ]
    },
    {
      "cell_type": "markdown",
      "metadata": {
        "id": "QOFdEqzm0nuX"
      },
      "source": [
        "Transposition is distributive over addition of matrices, meaning that $(Q + R)^T = Q^T + R^T$. For example:"
      ]
    },
    {
      "cell_type": "code",
      "execution_count": null,
      "metadata": {
        "id": "1hYhassH0nuX"
      },
      "outputs": [],
      "source": [
        "(A + B).T\n"
      ]
    },
    {
      "cell_type": "code",
      "execution_count": null,
      "metadata": {
        "id": "OAwdGqE_0nuX"
      },
      "outputs": [],
      "source": [
        "A.T + B.T\n"
      ]
    },
    {
      "cell_type": "markdown",
      "metadata": {
        "id": "wT6aym2L0nuY"
      },
      "source": [
        "Moreover, $(Q \\cdot R)^T = R^T \\cdot Q^T$. Note that the order is reversed. For example:"
      ]
    },
    {
      "cell_type": "code",
      "execution_count": null,
      "metadata": {
        "id": "oODC-YHj0nuY"
      },
      "outputs": [],
      "source": [
        "(A.dot(D)).T\n"
      ]
    },
    {
      "cell_type": "code",
      "execution_count": null,
      "metadata": {
        "id": "I17I4Xx90nuY"
      },
      "outputs": [],
      "source": [
        "D.T.dot(A.T)\n"
      ]
    },
    {
      "cell_type": "markdown",
      "metadata": {
        "id": "eQ9vXr_f0nuY"
      },
      "source": [
        "A **symmetric matrix** $M$ is defined as a matrix that is equal to its transpose: $M^T = M$. This definition implies that it must be a square matrix whose elements are symmetric relative to the main diagonal, for example:\n",
        "\n",
        "\\begin{bmatrix}\n",
        "  17 & 22 & 27 & 49 \\\\\n",
        "  22 & 29 & 36 & 0 \\\\\n",
        "  27 & 36 & 45 & 2 \\\\\n",
        "  49 & 0 & 2 & 99\n",
        "\\end{bmatrix}\n",
        "\n",
        "The product of a matrix by its transpose is always a symmetric matrix, for example:"
      ]
    },
    {
      "cell_type": "code",
      "execution_count": null,
      "metadata": {
        "id": "ghhAkLw50nuY"
      },
      "outputs": [],
      "source": [
        "D.dot(D.T)\n"
      ]
    },
    {
      "cell_type": "markdown",
      "metadata": {
        "id": "BAZFXjKB0nuY"
      },
      "source": [
        "## Plotting a matrix\n",
        "We have already seen that vectors can been represented as points or arrows in N-dimensional space. Is there a good graphical representation of matrices? Well you can simply see a matrix as a list of vectors, so plotting a matrix results in many points or arrows. For example, let's create a $2 \\times 4$ matrix `P` and plot it as points:"
      ]
    },
    {
      "cell_type": "code",
      "execution_count": null,
      "metadata": {
        "id": "UHFTruml0nuY"
      },
      "outputs": [],
      "source": [
        "P = np.array([\n",
        "        [3.0, 4.0, 1.0, 4.6],\n",
        "        [0.2, 3.5, 2.0, 0.5]\n",
        "    ])\n",
        "x_coords_P, y_coords_P = P\n",
        "plt.scatter(x_coords_P, y_coords_P)\n",
        "plt.axis([0, 5, 0, 4])\n",
        "plt.show()\n"
      ]
    },
    {
      "cell_type": "markdown",
      "metadata": {
        "id": "nE7vptpS0nuY"
      },
      "source": [
        "Of course we could also have stored the same 4 vectors as row vectors instead of column vectors, resulting in a $4 \\times 2$ matrix (the transpose of $P$, in fact). It is really an arbitrary choice.\n",
        "\n",
        "Since the vectors are ordered, you can see the matrix as a path and represent it with connected dots:"
      ]
    },
    {
      "cell_type": "code",
      "execution_count": null,
      "metadata": {
        "id": "iAZwncDC0nuY"
      },
      "outputs": [],
      "source": [
        "plt.plot(x_coords_P, y_coords_P, \"bo\")\n",
        "plt.plot(x_coords_P, y_coords_P, \"b--\")\n",
        "plt.axis([0, 5, 0, 4])\n",
        "plt.grid()\n",
        "plt.show()\n"
      ]
    },
    {
      "cell_type": "markdown",
      "metadata": {
        "id": "c726hpDv0nuY"
      },
      "source": [
        "## Determinant\n",
        "The determinant of a square matrix $M$, noted $\\det(M)$ or $\\det M$ or $|M|$ is a value that can be calculated from its elements $(M_{i,j})$ using various equivalent methods. One of the simplest methods is this recursive approach:\n",
        "\n",
        "$|M| = M_{1,1}\\times|M^{(1,1)}| - M_{2,1}\\times|M^{(2,1)}| + M_{3,1}\\times|M^{(3,1)}| - M_{4,1}\\times|M^{(4,1)}| + \\cdots ± M_{n,1}\\times|M^{(n,1)}|$\n",
        "\n",
        "* Where $M^{(i,j)}$ is the matrix $M$ without row $i$ and column $j$.\n",
        "\n",
        "For example, let's calculate the determinant of the following $3 \\times 3$ matrix:\n",
        "\n",
        "$M = \\begin{bmatrix}\n",
        "  1 & 2 & 3 \\\\\n",
        "  4 & 5 & 6 \\\\\n",
        "  7 & 8 & 0\n",
        "\\end{bmatrix}$\n",
        "\n",
        "Using the method above, we get:\n",
        "\n",
        "$|M| = 1 \\times \\left | \\begin{bmatrix} 5 & 6 \\\\ 8 & 0 \\end{bmatrix} \\right |\n",
        "     - 2 \\times \\left | \\begin{bmatrix} 4 & 6 \\\\ 7 & 0 \\end{bmatrix} \\right |\n",
        "     + 3 \\times \\left | \\begin{bmatrix} 4 & 5 \\\\ 7 & 8 \\end{bmatrix} \\right |$\n",
        "\n",
        "Now we need to compute the determinant of each of these $2 \\times 2$ matrices (these determinants are called **minors**):\n",
        "\n",
        "$\\left | \\begin{bmatrix} 5 & 6 \\\\ 8 & 0 \\end{bmatrix} \\right | = 5 \\times 0 - 6 \\times 8 = -48$\n",
        "\n",
        "$\\left | \\begin{bmatrix} 4 & 6 \\\\ 7 & 0 \\end{bmatrix} \\right | = 4 \\times 0 - 6 \\times 7 = -42$\n",
        "\n",
        "$\\left | \\begin{bmatrix} 4 & 5 \\\\ 7 & 8 \\end{bmatrix} \\right | = 4 \\times 8 - 5 \\times 7 = -3$\n",
        "\n",
        "Now we can calculate the final result:\n",
        "\n",
        "$|M| = 1 \\times (-48) - 2 \\times (-42) + 3 \\times (-3) = 27$"
      ]
    },
    {
      "cell_type": "markdown",
      "metadata": {
        "id": "MTOdJeJL0nuZ"
      },
      "source": [
        "To get the determinant of a matrix, you can call NumPy's `det` function in the `numpy.linalg` module:"
      ]
    },
    {
      "cell_type": "code",
      "execution_count": null,
      "metadata": {
        "id": "9J0up_UF0nuZ"
      },
      "outputs": [],
      "source": [
        "M = np.array([\n",
        "        [1, 2, 3],\n",
        "        [4, 5, 6],\n",
        "        [7, 8, 0]\n",
        "    ])\n",
        "LA.det(M)\n"
      ]
    },
    {
      "cell_type": "markdown",
      "metadata": {
        "id": "AZ5guvl60nuZ"
      },
      "source": [
        "One of the main uses of the determinant is to *determine* whether a square matrix can be inversed or not: if the determinant is equal to 0, then the matrix *cannot* be inversed (it is a singular matrix), and if the determinant is not 0, then it *can* be inversed."
      ]
    },
    {
      "cell_type": "markdown",
      "metadata": {
        "id": "4v1XsH2s0nuZ"
      },
      "source": [
        "## Eigenvectors and eigenvalues\n",
        "An **eigenvector** of a square matrix $M$ (also called a **characteristic vector**) is a non-zero vector that remains on the same line after transformation by the linear transformation associated with $M$. A more formal definition is any vector $v$ such that:\n",
        "\n",
        "$M \\cdot v = \\lambda \\times v$\n",
        "\n",
        "Where $\\lambda$ is a scalar value called the **eigenvalue** associated to the vector $v$.\n",
        "\n",
        "\n",
        "NumPy's `eig` function returns the list of unit eigenvectors and their corresponding eigenvalues for any square matrix. Let's look at the eigenvectors and eigenvalues of the a matrix"
      ]
    },
    {
      "cell_type": "code",
      "execution_count": null,
      "metadata": {
        "id": "IbCWJ2QI0nuZ"
      },
      "outputs": [],
      "source": [
        "import numpy as np\n",
        "\n",
        "# Create a dummy matrix\n",
        "dummy_matrix = np.array([[2, -1, 0],\n",
        "                         [-1, 2, -1],\n",
        "                         [0, -1, 2]])\n",
        "\n",
        "# Compute eigenvalues and eigenvectors\n",
        "eigenvalues, eigenvectors = np.linalg.eig(dummy_matrix)\n",
        "\n",
        "print(\"Eigenvalues:\")\n",
        "print(eigenvalues)\n",
        "print(\"\\nEigenvectors:\")\n",
        "print(eigenvectors)"
      ]
    },
    {
      "cell_type": "markdown",
      "metadata": {
        "id": "1Bmsf2RW0nuZ"
      },
      "source": [
        "###### Eigenvalues:\n",
        "\n",
        "The eigenvalues [3.41421356, 2.0, 0.58578644] represent the scaling factor by which the corresponding eigenvectors are stretched or compressed when the matrix transformation is applied. Higher eigenvalues indicate higher variance along the corresponding eigenvector direction.\n",
        "\n",
        "###### Eigenvectors:\n",
        "\n",
        "Each column of the eigenvectors matrix represents an eigenvector corresponding to the eigenvalues. For example, the first column [-0.5, 0.70710678, -0.5] corresponds to the eigenvalue 3.41421356. These eigenvectors are the directions along which the matrix transformation acts as a simple scalar multiplication, without changing direction."
      ]
    },
    {
      "cell_type": "code",
      "execution_count": null,
      "metadata": {
        "id": "KJTA0XcM0nuZ"
      },
      "outputs": [],
      "source": []
    }
  ],
  "metadata": {
    "kernelspec": {
      "display_name": "Python 3",
      "language": "python",
      "name": "python3"
    },
    "language_info": {
      "codemirror_mode": {
        "name": "ipython",
        "version": 3
      },
      "file_extension": ".py",
      "mimetype": "text/x-python",
      "name": "python",
      "nbconvert_exporter": "python",
      "pygments_lexer": "ipython3",
      "version": "3.7.4"
    },
    "toc": {
      "toc_cell": false,
      "toc_number_sections": true,
      "toc_threshold": 6,
      "toc_window_display": false
    },
    "colab": {
      "provenance": [],
      "include_colab_link": true
    }
  },
  "nbformat": 4,
  "nbformat_minor": 0
}